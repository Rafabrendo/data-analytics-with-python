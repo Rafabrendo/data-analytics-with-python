{
 "cells": [
  {
   "cell_type": "markdown",
   "metadata": {},
   "source": [
    "Introdução ao Numpy.\n",
    "NumPy(Numerical Python) é um dos pacotes principais para computação numérica em Python, Pandas, Matplotlib, Statmodels e muitas outras bibliotecas científicas.\n",
    "Por que "
   ]
  },
  {
   "cell_type": "markdown",
   "metadata": {},
   "source": []
  }
 ],
 "metadata": {
  "kernelspec": {
   "display_name": "Python 3",
   "language": "python",
   "name": "python3"
  },
  "language_info": {
   "name": "python",
   "version": "3.10.12"
  }
 },
 "nbformat": 4,
 "nbformat_minor": 2
}
